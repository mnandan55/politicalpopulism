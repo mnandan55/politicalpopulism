{
 "cells": [
  {
   "cell_type": "code",
   "execution_count": 14,
   "id": "e15943eb-f95d-48a7-8884-2b76418eb59f",
   "metadata": {},
   "outputs": [
    {
     "data": {
      "application/vnd.jupyter.widget-view+json": {
       "model_id": "c9ea0bd37d8d46198198a33b376b5956",
       "version_major": 2,
       "version_minor": 0
      },
      "text/plain": [
       "interactive(children=(FloatSlider(value=1.0, description=\"α (Voter's Benefit Weight)\", max=1.0, min=0.1), Floa…"
      ]
     },
     "metadata": {},
     "output_type": "display_data"
    },
    {
     "data": {
      "application/vnd.jupyter.widget-view+json": {
       "model_id": "fecd3d7d9d0343adb60288b2dc71cbfe",
       "version_major": 2,
       "version_minor": 0
      },
      "text/plain": [
       "Output()"
      ]
     },
     "metadata": {},
     "output_type": "display_data"
    }
   ],
   "source": [
    "import numpy as np\n",
    "import matplotlib.pyplot as plt\n",
    "import seaborn as sns\n",
    "import scipy.stats as stats\n",
    "import ipywidgets as widgets\n",
    "from ipywidgets import interact, interactive, fixed, interact_manual\n",
    "\n",
    "# Styling\n",
    "sns.set_style(\"darkgrid\")\n",
    "sns.set_palette(\"pastel\")\n",
    "\n",
    "# Standard normal PDF\n",
    "def f(x):\n",
    "    return stats.norm.pdf(x)\n",
    "\n",
    "# H and R\n",
    "def H(W, mu, alpha, beta, b):\n",
    "    return W + (1 - mu) * alpha * (beta * b / (alpha + beta))**2\n",
    "\n",
    "def R(chi, mu, alpha, beta, b, K):\n",
    "    return (chi + mu - mu * chi) * ((beta**2 / (alpha + beta)) * b**2 - K)\n",
    "\n",
    "# Honest politician’s populist bias\n",
    "def p(alpha, beta, b, W, mu, chi, K):\n",
    "    h = H(W, mu, alpha, beta, b)\n",
    "    r = R(chi, mu, alpha, beta, b, K)\n",
    "    x = (beta * h - alpha * r) / h\n",
    "    return (1 / (2 * alpha)) * h * f(x)\n",
    "\n",
    "# Corrupt politician’s populist bias\n",
    "def q(alpha, beta, b, W, mu, chi, K):\n",
    "    h = H(W, mu, alpha, beta, b)\n",
    "    r = R(chi, mu, alpha, beta, b, K)\n",
    "    x = (beta * h - alpha * r) / (h + r)\n",
    "    return (1 / (2 * (alpha + beta))) * (h + r) * f(x)\n",
    "\n",
    "# Plot Function with Explanation\n",
    "output = widgets.Output()\n",
    "\n",
    "def plot_comparison(alpha, beta, b, W, mu, chi, K):\n",
    "    P_val = p(alpha, beta, b, W, mu, chi, K)\n",
    "    Q_val = q(alpha, beta, b, W, mu, chi, K)\n",
    "\n",
    "    plt.figure(figsize=(7, 5))\n",
    "\n",
    "    plt.bar([\"Honest (p)\", \"Corrupt (q)\"], [P_val, Q_val], color=[\"blue\", \"red\"], alpha=0.7)\n",
    "    for i, v in enumerate([P_val, Q_val]):\n",
    "        plt.text(i, v + 0.01, f\"{v:.3f}\", ha=\"center\", fontsize=12, fontweight=\"bold\")\n",
    "    \n",
    "    plt.ylabel(\"Populist Bias\")\n",
    "    plt.title(\"Populism: Honest vs. Corrupt Politician\")\n",
    "    plt.ylim(0, max(P_val, Q_val) * 1.2)\n",
    "    plt.show()\n",
    "\n",
    "\n",
    "# Interactive Widget with Toggle for Chart Type\n",
    "interact(plot_comparison,\n",
    "         alpha=widgets.FloatSlider(min=0.1, max=1, step=0.1, value=1, description=\"α (Voter's Benefit Weight)\"),\n",
    "         beta=widgets.FloatSlider(min=0.1, max=1, step=0.1, value=1, description=\"β (Interest Group's Benefit Weight)\"),\n",
    "         b=widgets.FloatSlider(min=0.1, max=1, step=0.1, value=1, description=\"b (Interest Group Bliss Point)\"),\n",
    "         W=widgets.FloatSlider(min=0, max=5, step=0.5, value=1, description=\"W (Gain from Winning Office)\"),\n",
    "         mu=widgets.FloatSlider(min=0, max=1, step=0.1, value=0.5, description=\"μ (Proportion of Honest Politicians)\"),\n",
    "         chi=widgets.FloatSlider(min=0, max=1, step=0.1, value=0.5, description=\"χ (Corrupt Leader Bargaining Power)\"),\n",
    "         K=widgets.FloatSlider(min=0, max=5, step=0.1, value=1, description=\"K (Corruption Cost)\"))\n",
    "\n",
    "display(output)\n"
   ]
  },
  {
   "cell_type": "code",
   "execution_count": null,
   "id": "a84ecd05-f4e1-46f8-9232-8afebf9c3c41",
   "metadata": {},
   "outputs": [],
   "source": []
  },
  {
   "cell_type": "code",
   "execution_count": null,
   "id": "7807f7f7-94e5-4310-a3d8-9806895b7481",
   "metadata": {},
   "outputs": [],
   "source": []
  }
 ],
 "metadata": {
  "kernelspec": {
   "display_name": "Python 3 (ipykernel)",
   "language": "python",
   "name": "python3"
  },
  "language_info": {
   "codemirror_mode": {
    "name": "ipython",
    "version": 3
   },
   "file_extension": ".py",
   "mimetype": "text/x-python",
   "name": "python",
   "nbconvert_exporter": "python",
   "pygments_lexer": "ipython3",
   "version": "3.12.4"
  }
 },
 "nbformat": 4,
 "nbformat_minor": 5
}
